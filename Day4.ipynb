{
 "cells": [
  {
   "cell_type": "code",
   "execution_count": null,
   "id": "0aeb5e51-89be-476e-89d6-aecf381279d1",
   "metadata": {},
   "outputs": [],
   "source": [
    "#DataTypes :"
   ]
  },
  {
   "cell_type": "code",
   "execution_count": null,
   "id": "be1bac8b-30e1-40de-b091-bec359fa7b85",
   "metadata": {},
   "outputs": [],
   "source": [
    "#intro to Numbers datatype:"
   ]
  },
  {
   "cell_type": "code",
   "execution_count": 1,
   "id": "8a9b14ce-1d1d-4464-a42a-7397b4900ba8",
   "metadata": {},
   "outputs": [
    {
     "name": "stdout",
     "output_type": "stream",
     "text": [
      "12345\n"
     ]
    }
   ],
   "source": [
    "number=12345\n",
    "print(number)"
   ]
  },
  {
   "cell_type": "code",
   "execution_count": 2,
   "id": "18a8491f-016c-48bd-9333-73978aa95da9",
   "metadata": {},
   "outputs": [
    {
     "data": {
      "text/plain": [
       "int"
      ]
     },
     "execution_count": 2,
     "metadata": {},
     "output_type": "execute_result"
    }
   ],
   "source": [
    "type(number)"
   ]
  },
  {
   "cell_type": "code",
   "execution_count": 3,
   "id": "9bd156bd-5bd5-4fa8-8655-ab1176f5337f",
   "metadata": {},
   "outputs": [
    {
     "name": "stdout",
     "output_type": "stream",
     "text": [
      "0.123\n"
     ]
    }
   ],
   "source": [
    "num=0.123\n",
    "print(num)"
   ]
  },
  {
   "cell_type": "code",
   "execution_count": 4,
   "id": "0dc44769-8081-4613-9ad8-cb47c69c723d",
   "metadata": {},
   "outputs": [
    {
     "data": {
      "text/plain": [
       "float"
      ]
     },
     "execution_count": 4,
     "metadata": {},
     "output_type": "execute_result"
    }
   ],
   "source": [
    "type(num)"
   ]
  },
  {
   "cell_type": "code",
   "execution_count": null,
   "id": "01c17ae9-913c-4757-be32-d80435fd0a58",
   "metadata": {},
   "outputs": [],
   "source": [
    "# Intro to list data type:"
   ]
  },
  {
   "cell_type": "code",
   "execution_count": 9,
   "id": "be8e9abb-c79f-48fc-9ec9-1fe007b81223",
   "metadata": {},
   "outputs": [
    {
     "name": "stdout",
     "output_type": "stream",
     "text": [
      "['January', 'February', 'March', 'may', 'July']\n"
     ]
    }
   ],
   "source": [
    "months = ['January', 'February','March', 'may', 'July']\n",
    "print(months)"
   ]
  },
  {
   "cell_type": "code",
   "execution_count": 6,
   "id": "dae67b78-7c88-4e57-a82e-1306f94f422a",
   "metadata": {},
   "outputs": [
    {
     "data": {
      "text/plain": [
       "list"
      ]
     },
     "execution_count": 6,
     "metadata": {},
     "output_type": "execute_result"
    }
   ],
   "source": [
    "type(months)"
   ]
  },
  {
   "cell_type": "code",
   "execution_count": null,
   "id": "95cf02ad-19b4-4bf1-ac52-fc288d671eae",
   "metadata": {},
   "outputs": [],
   "source": [
    "#To print month name from list"
   ]
  },
  {
   "cell_type": "code",
   "execution_count": 8,
   "id": "1e7ca085-1afa-41d8-aa73-ebe52c644848",
   "metadata": {},
   "outputs": [
    {
     "name": "stdout",
     "output_type": "stream",
     "text": [
      "March\n"
     ]
    }
   ],
   "source": [
    "print(months[2])"
   ]
  },
  {
   "cell_type": "code",
   "execution_count": 10,
   "id": "13a01931-eac7-4ebe-9bdb-3eb6f56538b4",
   "metadata": {},
   "outputs": [
    {
     "name": "stdout",
     "output_type": "stream",
     "text": [
      "May\n"
     ]
    }
   ],
   "source": [
    "print(months[3].title())"
   ]
  },
  {
   "cell_type": "code",
   "execution_count": null,
   "id": "c5c5d313-5298-418f-88a9-8d4e82ad0174",
   "metadata": {},
   "outputs": [],
   "source": [
    "#to append a name in the list"
   ]
  },
  {
   "cell_type": "code",
   "execution_count": 13,
   "id": "7aa9c6d3-c0cf-4608-b70a-93a69455ceaf",
   "metadata": {},
   "outputs": [
    {
     "name": "stdout",
     "output_type": "stream",
     "text": [
      "['January', 'February', 'March', 'may', 'July', 'August']\n"
     ]
    }
   ],
   "source": [
    "months.append('August')\n",
    "print(months)"
   ]
  },
  {
   "cell_type": "code",
   "execution_count": null,
   "id": "7829ecb8-b8e8-45b1-a8b0-f71e22347d33",
   "metadata": {},
   "outputs": [],
   "source": [
    "#to insert a name in the list at a position"
   ]
  },
  {
   "cell_type": "code",
   "execution_count": 15,
   "id": "e5eda036-931b-4606-b60a-44a88698a542",
   "metadata": {},
   "outputs": [
    {
     "name": "stdout",
     "output_type": "stream",
     "text": [
      "['January', 'February', 'March', 'April', 'may', 'July', 'August']\n"
     ]
    }
   ],
   "source": [
    "months.insert(3,'April')\n",
    "print(months)"
   ]
  },
  {
   "cell_type": "code",
   "execution_count": null,
   "id": "07160083-9181-482f-b622-88423802b5c3",
   "metadata": {},
   "outputs": [],
   "source": [
    "#To delete a name in the list"
   ]
  },
  {
   "cell_type": "code",
   "execution_count": 16,
   "id": "c8e2baaf-4cba-4025-ab83-8c5bc9826d5e",
   "metadata": {},
   "outputs": [
    {
     "name": "stdout",
     "output_type": "stream",
     "text": [
      "['January', 'February', 'March', 'April', 'July', 'August']\n"
     ]
    }
   ],
   "source": [
    "del months[4]\n",
    "print(months)"
   ]
  },
  {
   "cell_type": "code",
   "execution_count": null,
   "id": "6556ea74-7e6f-4e04-9bac-e6381ee4e756",
   "metadata": {},
   "outputs": [],
   "source": []
  }
 ],
 "metadata": {
  "kernelspec": {
   "display_name": "Python 3 (ipykernel)",
   "language": "python",
   "name": "python3"
  },
  "language_info": {
   "codemirror_mode": {
    "name": "ipython",
    "version": 3
   },
   "file_extension": ".py",
   "mimetype": "text/x-python",
   "name": "python",
   "nbconvert_exporter": "python",
   "pygments_lexer": "ipython3",
   "version": "3.13.5"
  }
 },
 "nbformat": 4,
 "nbformat_minor": 5
}
