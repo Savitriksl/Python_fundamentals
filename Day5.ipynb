{
 "cells": [
  {
   "cell_type": "code",
   "execution_count": 1,
   "id": "cd173bf5-080e-460a-b93a-b8fc6a9793d6",
   "metadata": {},
   "outputs": [],
   "source": [
    "#Organizing list data type:"
   ]
  },
  {
   "cell_type": "code",
   "execution_count": 9,
   "id": "199dcae0-8a35-4dfc-918a-1581a4db70c0",
   "metadata": {},
   "outputs": [],
   "source": [
    "cars = ['bmw','tata','toyota','benz','suzuki','audi']"
   ]
  },
  {
   "cell_type": "code",
   "execution_count": 10,
   "id": "51889a8d-b22a-4aee-b46f-5cf79987ce3d",
   "metadata": {},
   "outputs": [
    {
     "name": "stdout",
     "output_type": "stream",
     "text": [
      "['bmw', 'tata', 'toyota', 'benz', 'suzuki', 'audi']\n"
     ]
    }
   ],
   "source": [
    "print(cars)"
   ]
  },
  {
   "cell_type": "code",
   "execution_count": 11,
   "id": "e58b29c1-42bc-484e-8e24-911332c4484e",
   "metadata": {},
   "outputs": [
    {
     "data": {
      "text/plain": [
       "list"
      ]
     },
     "execution_count": 11,
     "metadata": {},
     "output_type": "execute_result"
    }
   ],
   "source": [
    "type(cars)"
   ]
  },
  {
   "cell_type": "code",
   "execution_count": null,
   "id": "0a2441d9-1735-4b54-902b-c4dc7e4dc4fd",
   "metadata": {},
   "outputs": [],
   "source": []
  },
  {
   "cell_type": "code",
   "execution_count": null,
   "id": "17b40913-bc6e-43e9-bc4b-6553f8387dd5",
   "metadata": {},
   "outputs": [],
   "source": [
    "#req:organize the list in alaphabetical order (A-Z,a-z)"
   ]
  },
  {
   "cell_type": "code",
   "execution_count": 14,
   "id": "89d834fd-f1ea-4a9a-b3b6-eff2b2cf9ac3",
   "metadata": {},
   "outputs": [
    {
     "name": "stdout",
     "output_type": "stream",
     "text": [
      "['audi', 'benz', 'bmw', 'suzuki', 'tata', 'toyota']\n"
     ]
    }
   ],
   "source": [
    "print(sorted(cars)) #sorted is temporary approach"
   ]
  },
  {
   "cell_type": "code",
   "execution_count": 13,
   "id": "2d10c326-6071-4e0f-897f-f42f3d00337d",
   "metadata": {},
   "outputs": [
    {
     "name": "stdout",
     "output_type": "stream",
     "text": [
      "['bmw', 'tata', 'toyota', 'benz', 'suzuki', 'audi']\n"
     ]
    }
   ],
   "source": [
    "print(cars)"
   ]
  },
  {
   "cell_type": "code",
   "execution_count": 18,
   "id": "9172f174-0b4d-4a11-ad4b-6941112f058b",
   "metadata": {},
   "outputs": [],
   "source": [
    "cars.sort() #sort is permanent approach"
   ]
  },
  {
   "cell_type": "code",
   "execution_count": 17,
   "id": "f4edc162-b05e-407f-ae81-387637ebd630",
   "metadata": {},
   "outputs": [
    {
     "name": "stdout",
     "output_type": "stream",
     "text": [
      "['audi', 'benz', 'bmw', 'suzuki', 'tata', 'toyota']\n"
     ]
    }
   ],
   "source": [
    "print(cars)"
   ]
  },
  {
   "cell_type": "code",
   "execution_count": null,
   "id": "0f065820-6671-4bd4-845c-41fae0a99b70",
   "metadata": {},
   "outputs": [],
   "source": []
  },
  {
   "cell_type": "code",
   "execution_count": null,
   "id": "89aaf557-8b5b-4bed-81dc-e7e9a0c0ec52",
   "metadata": {},
   "outputs": [],
   "source": [
    "#to print the elements list in reverse order"
   ]
  },
  {
   "cell_type": "code",
   "execution_count": 21,
   "id": "2bd0d2d8-eb33-4546-aa01-168d06914d0a",
   "metadata": {},
   "outputs": [],
   "source": [
    "cars.reverse()"
   ]
  },
  {
   "cell_type": "code",
   "execution_count": 22,
   "id": "e77b757f-5ab0-4fc2-b649-dfebbcf021b8",
   "metadata": {},
   "outputs": [
    {
     "name": "stdout",
     "output_type": "stream",
     "text": [
      "['toyota', 'tata', 'suzuki', 'bmw', 'benz', 'audi']\n"
     ]
    }
   ],
   "source": [
    "print(cars)"
   ]
  },
  {
   "cell_type": "code",
   "execution_count": null,
   "id": "2da28143-234e-4cfa-be7e-263e336c32ef",
   "metadata": {},
   "outputs": [],
   "source": []
  },
  {
   "cell_type": "code",
   "execution_count": 19,
   "id": "e1443258-c9b1-44be-bac7-a075eee829dd",
   "metadata": {},
   "outputs": [],
   "source": [
    "# To know the count of elements in list"
   ]
  },
  {
   "cell_type": "code",
   "execution_count": 20,
   "id": "ef8e9700-9f69-451e-b339-37bdee2adc0d",
   "metadata": {},
   "outputs": [
    {
     "data": {
      "text/plain": [
       "6"
      ]
     },
     "execution_count": 20,
     "metadata": {},
     "output_type": "execute_result"
    }
   ],
   "source": [
    "len(cars)"
   ]
  },
  {
   "cell_type": "code",
   "execution_count": null,
   "id": "d1b0fa53-868b-4f69-88c5-cf6250bef3e8",
   "metadata": {},
   "outputs": [],
   "source": []
  },
  {
   "cell_type": "code",
   "execution_count": null,
   "id": "00706523-17fe-4d3b-88f3-37fee31080a5",
   "metadata": {},
   "outputs": [],
   "source": [
    "#Intro to slicing"
   ]
  },
  {
   "cell_type": "code",
   "execution_count": 25,
   "id": "e612db85-5cce-4564-9ee0-ccdac50d3ad4",
   "metadata": {},
   "outputs": [],
   "source": [
    "months = ['January', 'February', 'March', 'April', 'May', 'June', 'July']"
   ]
  },
  {
   "cell_type": "code",
   "execution_count": 26,
   "id": "fa34d976-05c7-459b-858e-ddc24d396000",
   "metadata": {},
   "outputs": [
    {
     "name": "stdout",
     "output_type": "stream",
     "text": [
      "['January', 'February', 'March', 'April', 'May', 'June', 'July']\n"
     ]
    }
   ],
   "source": [
    "print(months)"
   ]
  },
  {
   "cell_type": "code",
   "execution_count": null,
   "id": "cc042710-a541-4251-a291-5881bce643cf",
   "metadata": {},
   "outputs": [],
   "source": [
    "#Syntax for slicing"
   ]
  },
  {
   "cell_type": "code",
   "execution_count": 27,
   "id": "5d2e9b62-a0b3-4f3d-9548-fe4d8413f20e",
   "metadata": {},
   "outputs": [
    {
     "name": "stdout",
     "output_type": "stream",
     "text": [
      "['January', 'February', 'March']\n"
     ]
    }
   ],
   "source": [
    "print(months[0:3])"
   ]
  },
  {
   "cell_type": "code",
   "execution_count": 29,
   "id": "f8654cba-f87d-40d2-92f8-1949241bbca6",
   "metadata": {},
   "outputs": [
    {
     "name": "stdout",
     "output_type": "stream",
     "text": [
      "['March', 'April', 'May']\n"
     ]
    }
   ],
   "source": [
    "print(months[2:5])"
   ]
  },
  {
   "cell_type": "code",
   "execution_count": null,
   "id": "0fa28e2d-ac92-4e51-8897-ce4b007afac3",
   "metadata": {},
   "outputs": [],
   "source": [
    "#to get names alternatively"
   ]
  },
  {
   "cell_type": "code",
   "execution_count": 31,
   "id": "1f3c84ff-fbc2-4b46-bece-274decac3809",
   "metadata": {},
   "outputs": [
    {
     "name": "stdout",
     "output_type": "stream",
     "text": [
      "['February', 'April']\n"
     ]
    }
   ],
   "source": [
    "print(months[1:4:2])"
   ]
  },
  {
   "cell_type": "code",
   "execution_count": null,
   "id": "35210f47-34a0-4711-839f-16cad91a3c3b",
   "metadata": {},
   "outputs": [],
   "source": []
  },
  {
   "cell_type": "code",
   "execution_count": null,
   "id": "342ed740-2b78-4457-9b89-1582a7357650",
   "metadata": {},
   "outputs": [],
   "source": [
    "#Tuple datatype"
   ]
  },
  {
   "cell_type": "code",
   "execution_count": 33,
   "id": "99d0893e-5b89-4203-b59f-50a23d8b8607",
   "metadata": {},
   "outputs": [],
   "source": [
    "data = (20, 30)"
   ]
  },
  {
   "cell_type": "code",
   "execution_count": 35,
   "id": "d01a80ca-367f-4f32-b73a-a01ca879041c",
   "metadata": {},
   "outputs": [
    {
     "name": "stdout",
     "output_type": "stream",
     "text": [
      "(20, 30)\n"
     ]
    }
   ],
   "source": [
    "print(data)"
   ]
  },
  {
   "cell_type": "code",
   "execution_count": null,
   "id": "61ea1573-0111-4d0d-9f45-407a75ba53f4",
   "metadata": {},
   "outputs": [],
   "source": [
    "type(data"
   ]
  },
  {
   "cell_type": "code",
   "execution_count": null,
   "id": "6ce3ba64-1b16-4924-91c0-0145df9ab6a7",
   "metadata": {},
   "outputs": [],
   "source": []
  },
  {
   "cell_type": "code",
   "execution_count": null,
   "id": "75e51947-a630-4cad-99e6-598f3a30cff5",
   "metadata": {},
   "outputs": [],
   "source": []
  },
  {
   "cell_type": "code",
   "execution_count": null,
   "id": "ceb2c015-6f51-464e-b860-f12e1a2ee074",
   "metadata": {},
   "outputs": [],
   "source": []
  }
 ],
 "metadata": {
  "kernelspec": {
   "display_name": "Python 3 (ipykernel)",
   "language": "python",
   "name": "python3"
  },
  "language_info": {
   "codemirror_mode": {
    "name": "ipython",
    "version": 3
   },
   "file_extension": ".py",
   "mimetype": "text/x-python",
   "name": "python",
   "nbconvert_exporter": "python",
   "pygments_lexer": "ipython3",
   "version": "3.13.5"
  }
 },
 "nbformat": 4,
 "nbformat_minor": 5
}
