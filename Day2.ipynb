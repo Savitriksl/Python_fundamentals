{
 "cells": [
  {
   "cell_type": "code",
   "execution_count": null,
   "id": "475b45dd-a598-4d9b-ab3c-e09282670c00",
   "metadata": {},
   "outputs": [],
   "source": [
    "Intro to Programming:"
   ]
  },
  {
   "cell_type": "code",
   "execution_count": 1,
   "id": "de85a1c0-4207-4b5d-bc20-36bc912f60bf",
   "metadata": {},
   "outputs": [
    {
     "name": "stdout",
     "output_type": "stream",
     "text": [
      "5\n"
     ]
    }
   ],
   "source": [
    "x=2\n",
    "y=3\n",
    "z=x+y\n",
    "print(z)"
   ]
  },
  {
   "cell_type": "code",
   "execution_count": 2,
   "id": "a25b828a-3a8d-4126-8563-4200bdf26051",
   "metadata": {},
   "outputs": [
    {
     "name": "stdout",
     "output_type": "stream",
     "text": [
      "Savitri\n"
     ]
    }
   ],
   "source": [
    "name='Savitri'\n",
    "print(name)"
   ]
  },
  {
   "cell_type": "code",
   "execution_count": 3,
   "id": "08968ce5-b705-4597-b165-144461f50793",
   "metadata": {},
   "outputs": [
    {
     "name": "stdout",
     "output_type": "stream",
     "text": [
      "Python\n"
     ]
    }
   ],
   "source": [
    "name=\"Python\"\n",
    "print(name)"
   ]
  },
  {
   "cell_type": "code",
   "execution_count": 5,
   "id": "e1e351e1-2118-424b-ba6d-5a5b073455fe",
   "metadata": {},
   "outputs": [
    {
     "data": {
      "text/plain": [
       "str"
      ]
     },
     "execution_count": 5,
     "metadata": {},
     "output_type": "execute_result"
    }
   ],
   "source": [
    "name=\"Technical\"\n",
    "type(name)"
   ]
  },
  {
   "cell_type": "code",
   "execution_count": 6,
   "id": "f9da3ba6-78d3-4be8-be00-d31bd6c9f4c5",
   "metadata": {},
   "outputs": [
    {
     "data": {
      "text/plain": [
       "int"
      ]
     },
     "execution_count": 6,
     "metadata": {},
     "output_type": "execute_result"
    }
   ],
   "source": [
    "number=123456\n",
    "type(number)"
   ]
  },
  {
   "cell_type": "code",
   "execution_count": 7,
   "id": "67df54a0-0997-41b3-a041-8230c96d8308",
   "metadata": {},
   "outputs": [
    {
     "data": {
      "text/plain": [
       "float"
      ]
     },
     "execution_count": 7,
     "metadata": {},
     "output_type": "execute_result"
    }
   ],
   "source": [
    "numeric=12.3456\n",
    "type(numeric)"
   ]
  },
  {
   "cell_type": "code",
   "execution_count": 9,
   "id": "28c8410d-d6a6-4c72-9953-6baf88872bd2",
   "metadata": {},
   "outputs": [
    {
     "name": "stdout",
     "output_type": "stream",
     "text": [
      "This is practical class\n",
      "This Is Practical Class\n",
      "THIS IS PRACTICAL CLASS\n",
      "this is practical class\n"
     ]
    }
   ],
   "source": [
    "Statement=\"This is practical class\"\n",
    "print(Statement)\n",
    "print(Statement.title())\n",
    "print(Statement.upper())\n",
    "print(Statement.lower())"
   ]
  }
 ],
 "metadata": {
  "kernelspec": {
   "display_name": "Python 3 (ipykernel)",
   "language": "python",
   "name": "python3"
  },
  "language_info": {
   "codemirror_mode": {
    "name": "ipython",
    "version": 3
   },
   "file_extension": ".py",
   "mimetype": "text/x-python",
   "name": "python",
   "nbconvert_exporter": "python",
   "pygments_lexer": "ipython3",
   "version": "3.13.5"
  }
 },
 "nbformat": 4,
 "nbformat_minor": 5
}
