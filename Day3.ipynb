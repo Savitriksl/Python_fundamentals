{
 "cells": [
  {
   "cell_type": "code",
   "execution_count": null,
   "id": "7f0c93a3-3e71-4ce6-b3ba-748f2c636026",
   "metadata": {},
   "outputs": [],
   "source": [
    "Intro to f string **"
   ]
  },
  {
   "cell_type": "code",
   "execution_count": 1,
   "id": "c0a01ee4-d069-42b2-b245-eedf96c29fec",
   "metadata": {},
   "outputs": [
    {
     "name": "stdout",
     "output_type": "stream",
     "text": [
      "kattamuri savitri\n"
     ]
    }
   ],
   "source": [
    "firstname = 'kattamuri'\n",
    "lastname='savitri'\n",
    "fullname=f\"{firstname} {lastname}\"\n",
    "print(fullname)"
   ]
  },
  {
   "cell_type": "code",
   "execution_count": 2,
   "id": "7e0c0b9e-e3bd-410d-b793-29b411b5f5d7",
   "metadata": {},
   "outputs": [
    {
     "name": "stdout",
     "output_type": "stream",
     "text": [
      "Kattamuri Savitri\n"
     ]
    }
   ],
   "source": [
    "print(fullname.title())"
   ]
  },
  {
   "cell_type": "code",
   "execution_count": 7,
   "id": "a7dff9be-4399-476e-a638-7932de382d18",
   "metadata": {},
   "outputs": [],
   "source": [
    "message = f\"Do your best  work , {fullname.title()} \""
   ]
  },
  {
   "cell_type": "code",
   "execution_count": 8,
   "id": "07f5b1b0-90c1-4c6e-a8a0-d464b52c266e",
   "metadata": {},
   "outputs": [
    {
     "name": "stdout",
     "output_type": "stream",
     "text": [
      "Do your best  work , Kattamuri Savitri \n"
     ]
    }
   ],
   "source": [
    "print(message)"
   ]
  },
  {
   "cell_type": "code",
   "execution_count": null,
   "id": "b6b74d28-3f93-47f9-904b-347a64efebb5",
   "metadata": {},
   "outputs": [],
   "source": []
  },
  {
   "cell_type": "code",
   "execution_count": null,
   "id": "13150783-6b4f-44dc-ba91-8fd368633212",
   "metadata": {},
   "outputs": [],
   "source": [
    "Adding whitespaces to string: **"
   ]
  },
  {
   "cell_type": "code",
   "execution_count": 9,
   "id": "ee4d7030-b464-48ba-8079-70f24b750152",
   "metadata": {},
   "outputs": [
    {
     "name": "stdout",
     "output_type": "stream",
     "text": [
      "Fruits:applebananamangoberriesorangeguava\n"
     ]
    }
   ],
   "source": [
    "print(\"Fruits:applebananamangoberriesorangeguava\")"
   ]
  },
  {
   "cell_type": "code",
   "execution_count": null,
   "id": "21e0f8fa-7576-4751-a2d0-4420f6c0a11a",
   "metadata": {},
   "outputs": [],
   "source": [
    "newlinedelimiter : \\n **"
   ]
  },
  {
   "cell_type": "code",
   "execution_count": 11,
   "id": "5a196d1f-4929-4c64-8684-e4f5ecfb16e3",
   "metadata": {},
   "outputs": [
    {
     "name": "stdout",
     "output_type": "stream",
     "text": [
      "Fruits:\n",
      "apple\n",
      "banana\n",
      "mango\n",
      "berries\n",
      "orange\n",
      "guava\n"
     ]
    }
   ],
   "source": [
    "print(\"Fruits:\\napple\\nbanana\\nmango\\nberries\\norange\\nguava\")"
   ]
  },
  {
   "cell_type": "code",
   "execution_count": null,
   "id": "c6e223bd-8f37-468f-bed1-aabd9698d929",
   "metadata": {},
   "outputs": [],
   "source": [
    "tab delimiter \\t **"
   ]
  },
  {
   "cell_type": "code",
   "execution_count": 12,
   "id": "7d440a0b-187c-41db-aad1-ea30cfdf1bc5",
   "metadata": {},
   "outputs": [
    {
     "name": "stdout",
     "output_type": "stream",
     "text": [
      "Fruits:\n",
      "\tapple\n",
      "\tbanana\n",
      "\tmango\n",
      "\tberries\n",
      "\torange\n",
      "\tguava\n"
     ]
    }
   ],
   "source": [
    "print(\"Fruits:\\n\\tapple\\n\\tbanana\\n\\tmango\\n\\tberries\\n\\torange\\n\\tguava\")"
   ]
  },
  {
   "cell_type": "code",
   "execution_count": null,
   "id": "c58c9e02-1583-4567-9aaa-86da74470125",
   "metadata": {},
   "outputs": [],
   "source": []
  },
  {
   "cell_type": "code",
   "execution_count": null,
   "id": "7e16be2e-5493-4bad-98d7-38f144de09c1",
   "metadata": {},
   "outputs": [],
   "source": [
    "removing whitespaces from string"
   ]
  },
  {
   "cell_type": "code",
   "execution_count": null,
   "id": "e6ea7649-9b79-4ff9-bf3e-daa9c2a758fa",
   "metadata": {},
   "outputs": [],
   "source": []
  },
  {
   "cell_type": "code",
   "execution_count": 14,
   "id": "d2207d8b-da60-4993-9fd4-477bdc4c42a7",
   "metadata": {},
   "outputs": [
    {
     "name": "stdout",
     "output_type": "stream",
     "text": [
      " python \n"
     ]
    }
   ],
   "source": [
    "name= ' python '\n",
    "print(name)"
   ]
  },
  {
   "cell_type": "code",
   "execution_count": 17,
   "id": "d4a487a2-cc1e-492c-9052-28e886133107",
   "metadata": {},
   "outputs": [
    {
     "data": {
      "text/plain": [
       "'python'"
      ]
     },
     "execution_count": 17,
     "metadata": {},
     "output_type": "execute_result"
    }
   ],
   "source": [
    "name.strip()"
   ]
  },
  {
   "cell_type": "code",
   "execution_count": 15,
   "id": "8c112435-a108-4ded-8e6e-179c58f26825",
   "metadata": {},
   "outputs": [
    {
     "data": {
      "text/plain": [
       "'program'"
      ]
     },
     "execution_count": 15,
     "metadata": {},
     "output_type": "execute_result"
    }
   ],
   "source": [
    "name2 = ' program'\n",
    "name2.lstrip()"
   ]
  },
  {
   "cell_type": "code",
   "execution_count": 16,
   "id": "de408643-af22-4b1a-b098-18ca2a7f9ba0",
   "metadata": {},
   "outputs": [
    {
     "data": {
      "text/plain": [
       "'language'"
      ]
     },
     "execution_count": 16,
     "metadata": {},
     "output_type": "execute_result"
    }
   ],
   "source": [
    "name3 = 'language '\n",
    "name3.rstrip()"
   ]
  },
  {
   "cell_type": "code",
   "execution_count": null,
   "id": "72fd1d33-674e-4723-aabc-de5ca2e2a071",
   "metadata": {},
   "outputs": [],
   "source": []
  },
  {
   "cell_type": "code",
   "execution_count": null,
   "id": "8fc78762-c715-43b8-9746-327b9092bf5a",
   "metadata": {},
   "outputs": [],
   "source": [
    "#zen of python"
   ]
  },
  {
   "cell_type": "code",
   "execution_count": 18,
   "id": "42e37420-57c7-4216-a305-85e8604dd885",
   "metadata": {},
   "outputs": [
    {
     "name": "stdout",
     "output_type": "stream",
     "text": [
      "The Zen of Python, by Tim Peters\n",
      "\n",
      "Beautiful is better than ugly.\n",
      "Explicit is better than implicit.\n",
      "Simple is better than complex.\n",
      "Complex is better than complicated.\n",
      "Flat is better than nested.\n",
      "Sparse is better than dense.\n",
      "Readability counts.\n",
      "Special cases aren't special enough to break the rules.\n",
      "Although practicality beats purity.\n",
      "Errors should never pass silently.\n",
      "Unless explicitly silenced.\n",
      "In the face of ambiguity, refuse the temptation to guess.\n",
      "There should be one-- and preferably only one --obvious way to do it.\n",
      "Although that way may not be obvious at first unless you're Dutch.\n",
      "Now is better than never.\n",
      "Although never is often better than *right* now.\n",
      "If the implementation is hard to explain, it's a bad idea.\n",
      "If the implementation is easy to explain, it may be a good idea.\n",
      "Namespaces are one honking great idea -- let's do more of those!\n"
     ]
    }
   ],
   "source": [
    "import this"
   ]
  }
 ],
 "metadata": {
  "kernelspec": {
   "display_name": "Python 3 (ipykernel)",
   "language": "python",
   "name": "python3"
  },
  "language_info": {
   "codemirror_mode": {
    "name": "ipython",
    "version": 3
   },
   "file_extension": ".py",
   "mimetype": "text/x-python",
   "name": "python",
   "nbconvert_exporter": "python",
   "pygments_lexer": "ipython3",
   "version": "3.13.5"
  }
 },
 "nbformat": 4,
 "nbformat_minor": 5
}
